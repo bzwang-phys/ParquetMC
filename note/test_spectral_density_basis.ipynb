{
 "cells": [
  {
   "cell_type": "code",
   "execution_count": 1,
   "metadata": {},
   "outputs": [],
   "source": [
    "import utility.spectral as spectral\n",
    "import numpy as np\n",
    "import numpy.linalg as linalg\n",
    "import matplotlib.pyplot as plt"
   ]
  },
  {
   "cell_type": "code",
   "execution_count": 2,
   "metadata": {},
   "outputs": [],
   "source": [
    "Beta=20\n",
    "Nt=1024\n",
    "TauGrid=np.linspace(1.0e-6, Beta-1.0e-6, Nt)"
   ]
  },
  {
   "cell_type": "code",
   "execution_count": 3,
   "metadata": {},
   "outputs": [],
   "source": [
    "MaxFreq=100.0\n",
    "Nw=256\n",
    "FreqGrid=np.linspace(-MaxFreq, MaxFreq, Nw)"
   ]
  },
  {
   "cell_type": "code",
   "execution_count": 4,
   "metadata": {},
   "outputs": [],
   "source": [
    "TauKer=spectral.TauKernel(Beta, TauGrid, FreqGrid, \"Fermi\")\n",
    "ut, st, vt=linalg.svd(TauKer)"
   ]
  },
  {
   "cell_type": "code",
   "execution_count": 6,
   "metadata": {},
   "outputs": [
    {
     "data": {
      "text/plain": [
       "array([1.74058277e+00, 1.74006374e+00, 1.12091865e+00, 1.11816193e+00,\n",
       "       5.81535061e-01, 5.78865638e-01, 2.77269175e-01, 2.75460873e-01,\n",
       "       1.25784221e-01, 1.24731565e-01, 5.48331403e-02, 5.42772931e-02,\n",
       "       2.30903229e-02, 2.28173829e-02, 9.42607936e-03, 9.29961456e-03,\n",
       "       3.74002176e-03, 3.68420249e-03, 1.44517633e-03, 1.42155178e-03,\n",
       "       5.44694235e-04, 5.35060796e-04, 2.00504268e-04, 1.96705829e-04,\n",
       "       7.21593592e-05, 7.07070581e-05, 2.54124981e-05, 2.48728472e-05,\n",
       "       8.76433470e-06, 8.56909389e-06, 2.96205991e-06, 2.89318024e-06,\n",
       "       9.81571353e-07, 9.57845034e-07, 3.19097010e-07, 3.11108578e-07,\n",
       "       1.01810081e-07, 9.91786559e-08, 3.18932603e-08, 3.10445284e-08,\n",
       "       9.81299612e-09, 9.54476668e-09, 2.96645304e-09, 2.88334032e-09,\n",
       "       8.81314920e-10, 8.56051595e-10, 2.57391917e-10, 2.49855214e-10,\n",
       "       7.39147005e-11, 7.17070450e-11, 2.08751204e-11, 2.02399406e-11,\n",
       "       5.79938895e-12, 5.61980909e-12, 1.58497994e-12, 1.53508384e-12,\n",
       "       4.26353368e-13, 4.12718949e-13, 1.12792342e-13, 1.09149682e-13,\n",
       "       2.94006594e-14, 2.84314923e-14, 7.54051602e-15, 7.30625181e-15])"
      ]
     },
     "execution_count": 6,
     "metadata": {},
     "output_type": "execute_result"
    }
   ],
   "source": [
    "st[0:64]"
   ]
  },
  {
   "cell_type": "code",
   "execution_count": 49,
   "metadata": {},
   "outputs": [],
   "source": [
    "Nwn=1024\n",
    "WnGrid=(np.array(range(-Nwn, Nwn))+0.5)*2.0*np.pi/Beta"
   ]
  },
  {
   "cell_type": "code",
   "execution_count": 50,
   "metadata": {},
   "outputs": [],
   "source": [
    "WnKer=spectral.MatFreqKernel(Beta, WnGrid, FreqGrid, \"Fermi\")\n",
    "uw, sw, vw=linalg.svd(WnKer)"
   ]
  },
  {
   "cell_type": "code",
   "execution_count": 53,
   "metadata": {},
   "outputs": [
    {
     "data": {
      "text/plain": [
       "array([1.86300113, 1.89688989, 1.91704585, 1.99404282, 1.87725112,\n",
       "       1.96525579, 1.82927087, 1.9174877 , 1.78031336, 1.86758191,\n",
       "       1.72833891, 1.81458244, 1.6731035 , 1.7580484 , 1.61507065,\n",
       "       1.69829566, 1.55481656, 1.6358856 , 1.49288651, 1.5714201 ,\n",
       "       1.42977253, 1.50547314, 1.36591735, 1.43857121, 1.30172182,\n",
       "       1.37119038, 1.23755087, 1.30375866, 1.17373742, 1.23665948,\n",
       "       1.11058469, 1.17023513, 1.04836746, 1.10478977, 0.98733284,\n",
       "       1.04059202, 0.92770076, 0.97787721, 0.8696645 , 0.91684933,\n",
       "       0.81339127, 0.85768286, 0.75902294, 0.80052447, 0.70667698,\n",
       "       0.74549458, 0.65644736, 0.69268904, 0.6084066 , 0.64218095,\n",
       "       0.56260333, 0.59401943, 0.51908112, 0.548247  , 0.47780447,\n",
       "       0.50482782, 0.43893098, 0.46392398, 0.40203499, 0.42516665,\n",
       "       0.36779685, 0.38902886, 0.33557303, 0.35591021])"
      ]
     },
     "execution_count": 53,
     "metadata": {},
     "output_type": "execute_result"
    }
   ],
   "source": [
    "st[0:64]/sw[:64]"
   ]
  },
  {
   "cell_type": "code",
   "execution_count": 61,
   "metadata": {},
   "outputs": [
    {
     "data": {
      "image/png": "[encoded data removed]",
      "text/plain": [
       "<Figure size 432x288 with 1 Axes>"
      ]
     },
     "metadata": {
      "needs_background": "light"
     },
     "output_type": "display_data"
    }
   ],
   "source": [
    "fig=plt.figure()\n",
    "plt.plot(uw[:, 5].real, label=\"wn\")\n",
    "plt.plot(ut[:, 5].real, label=\"tau\")\n",
    "plt.legend()\n",
    "plt.show()"
   ]
  },
  {
   "cell_type": "code",
   "execution_count": 29,
   "metadata": {},
   "outputs": [
    {
     "data": {
      "text/plain": [
       "array([-160.69246423, -160.37830497, -160.0641457 , ...,  160.0641457 ,\n",
       "        160.37830497,  160.69246423])"
      ]
     },
     "execution_count": 29,
     "metadata": {},
     "output_type": "execute_result"
    }
   ],
   "source": [
    "WnGrid"
   ]
  },
  {
   "cell_type": "code",
   "execution_count": 30,
   "metadata": {},
   "outputs": [
    {
     "data": {
      "text/plain": [
       "(1024, 1024)"
      ]
     },
     "execution_count": 30,
     "metadata": {},
     "output_type": "execute_result"
    }
   ],
   "source": [
    "vt.shape"
   ]
  },
  {
   "cell_type": "code",
   "execution_count": 31,
   "metadata": {},
   "outputs": [
    {
     "data": {
      "text/plain": [
       "(256, 256)"
      ]
     },
     "execution_count": 31,
     "metadata": {},
     "output_type": "execute_result"
    }
   ],
   "source": [
    "ut.shape"
   ]
  },
  {
   "cell_type": "code",
   "execution_count": 47,
   "metadata": {},
   "outputs": [
    {
     "data": {
      "text/plain": [
       "array([-4.01224609e-11,  8.74741446e-01, -1.42413581e-11,  3.89650961e-01,\n",
       "       -6.81231460e-12,  2.28271830e-01, -3.55071528e-12,  1.40182746e-01,\n",
       "       -1.88436766e-12,  8.55005746e-02, -9.94681768e-13,  5.10927690e-02,\n",
       "       -5.22545548e-13,  2.98798532e-02,  2.73103588e-13,  1.71289438e-02,\n",
       "        1.41142306e-13,  9.64198852e-03,  7.28510134e-14,  5.33686903e-03,\n",
       "        3.75912409e-14,  2.90772600e-03, -1.84051721e-14,  1.56074733e-03,\n",
       "       -1.03221874e-14,  8.25888236e-04, -4.98698440e-15,  4.31090808e-04,\n",
       "       -2.39107575e-15,  2.22069386e-04, -3.32972040e-15,  1.12945046e-04,\n",
       "       -1.32137224e-15,  5.67372446e-05,  1.55702020e-15,  2.81603160e-05,\n",
       "        1.25593366e-15, -1.38135453e-05, -7.18078830e-15, -6.69865858e-06,\n",
       "        8.11174506e-15, -3.21211126e-06,  1.54078121e-14,  1.52337925e-06,\n",
       "        3.32809601e-15,  7.14703156e-07,  2.32293621e-14,  3.31757619e-07,\n",
       "       -9.41733303e-15,  1.52392482e-07, -3.82632996e-14,  6.92814316e-08,\n",
       "       -2.67273929e-14,  3.11773023e-08,  3.73733935e-14,  1.38892514e-08,\n",
       "       -6.44988783e-14,  6.12615176e-09, -2.04449919e-13,  2.67548106e-09,\n",
       "       -4.78751966e-13,  1.15700500e-09, -9.42844987e-14,  4.95331902e-10,\n",
       "        1.37940834e-10,  1.59502235e-10, -1.07202005e-12, -8.74849733e-11,\n",
       "       -6.01024308e-12,  5.07352021e-12, -4.50201965e-12,  2.26175749e-12,\n",
       "        6.81272495e-12,  1.17880146e-11,  1.86450400e-11, -2.00852526e-11,\n",
       "       -1.58064697e-12, -1.21654199e-11,  1.36871166e-12, -2.32801704e-13,\n",
       "        1.12268279e-12,  1.88832406e-12,  3.41915852e-12, -1.18608372e-12,\n",
       "       -2.79953048e-13, -9.23409345e-14, -2.82647510e-12,  2.48809203e-12,\n",
       "       -2.03126864e-12, -1.96531903e-12, -2.58672931e-13, -1.48439934e-12,\n",
       "        1.38563929e-12, -3.22576797e-12, -1.67335025e-12,  2.63497954e-12,\n",
       "        2.05853874e-13, -6.86877056e-13, -1.74061337e-12, -1.38077837e-12,\n",
       "        2.21340711e-12,  5.85354606e-13, -3.83230183e-13, -7.16335843e-13,\n",
       "       -6.22523730e-13, -5.69147152e-13, -8.62776092e-13, -5.77821538e-13,\n",
       "       -1.10333328e-12, -1.06817909e-12,  2.02132854e-12, -7.32602097e-13,\n",
       "       -6.28523742e-13,  2.30867106e-13, -1.14314071e-12,  1.36825085e-13,\n",
       "       -1.63950813e-12, -1.07222375e-12,  2.21689683e-12, -1.65941884e-12,\n",
       "       -2.53949054e-12,  8.31279738e-13, -1.81393515e-12, -1.34519174e-12,\n",
       "        2.53580711e-12,  8.42796202e-13, -1.70410315e-13,  6.25255880e-14,\n",
       "       -2.04398297e-12,  2.19974628e-12,  2.58614745e-13,  4.73414201e-13,\n",
       "        4.24975183e-13,  8.19499821e-13, -5.08716283e-13,  1.68969738e-13,\n",
       "        4.72195526e-13, -6.38576322e-13, -1.11201397e-12, -1.12037316e-13,\n",
       "        1.72876983e-13, -2.44219970e-13, -1.66045327e-12,  6.59204957e-14,\n",
       "       -1.06649365e-12, -5.34623684e-13,  1.03201660e-12,  1.18329173e-13,\n",
       "        9.98509734e-13,  2.46491331e-13,  3.90544776e-13, -1.51829431e-13,\n",
       "        1.61510409e-13,  4.40361389e-14, -1.60166452e-13, -4.25702199e-13,\n",
       "       -3.23241788e-13, -3.72652478e-13,  5.36096241e-13, -4.68360985e-13,\n",
       "        9.98738312e-14, -3.16264685e-13, -5.72801243e-14, -3.30889892e-13,\n",
       "       -5.57432210e-14,  1.44123485e-12,  8.69965719e-13, -7.89461352e-13,\n",
       "       -4.51684007e-13,  1.52959166e-12,  1.08138343e-12, -9.08621012e-13,\n",
       "       -2.32403201e-13,  5.71099859e-13,  2.55508450e-13,  2.14523813e-14,\n",
       "       -3.66862967e-14,  8.87994500e-13, -5.69192287e-13, -3.32983507e-13,\n",
       "       -4.66708460e-13, -4.27835212e-13,  2.42069892e-14,  3.58786563e-14,\n",
       "        8.19560826e-13,  1.91420442e-14,  6.80878839e-13, -7.66607633e-13,\n",
       "       -4.11648278e-13, -1.41539109e-13, -1.89368001e-13,  5.03093378e-13,\n",
       "        7.86069246e-13, -3.62325069e-15, -3.43825757e-14,  6.41970682e-13,\n",
       "        7.77161479e-14,  5.55449512e-15, -5.27975336e-13, -3.80215840e-13,\n",
       "        4.15809631e-13,  1.53087477e-13, -1.53706155e-13,  3.74594772e-13,\n",
       "        1.57971299e-13,  3.97743056e-13, -1.71985331e-13, -5.99861331e-13,\n",
       "       -1.78223811e-13, -1.06303711e-12, -7.95144244e-13,  1.96628756e-14,\n",
       "       -2.22266402e-13,  1.06616961e-13,  1.83750554e-13, -4.80554214e-14,\n",
       "        1.57075983e-13,  7.69566959e-14,  4.30661360e-13, -5.22164669e-14,\n",
       "        4.57377032e-13,  6.31213768e-13,  2.03396597e-13, -1.32828504e-13,\n",
       "       -9.89729346e-15,  3.96977459e-13,  7.87591064e-13,  4.64180340e-14,\n",
       "        4.34649336e-13, -5.26251910e-15,  1.27006042e-14,  1.56568853e-13,\n",
       "       -4.45003055e-13,  1.80146219e-13, -3.21343762e-13, -7.51244523e-14,\n",
       "       -8.34500116e-14,  6.61643547e-13, -4.67356868e-13, -7.37968610e-14,\n",
       "       -5.53794450e-13, -4.09496712e-13,  4.08122456e-13,  3.06512147e-14,\n",
       "        2.28804714e-13,  6.36972625e-13, -1.11999703e-13, -8.60896853e-15,\n",
       "       -1.01138462e-13, -3.12590840e-13, -2.08951754e-13,  1.94531126e-13,\n",
       "        6.98367843e-13, -1.23107983e-14, -6.83407530e-13, -4.86920080e-13])"
      ]
     },
     "execution_count": 47,
     "metadata": {},
     "output_type": "execute_result"
    }
   ],
   "source": [
    "a=np.dot(ut.T, uw)\n",
    "a[0, :].real"
   ]
  },
  {
   "cell_type": "code",
   "execution_count": null,
   "metadata": {},
   "outputs": [],
   "source": []
  }
 ],
 "metadata": {
  "kernelspec": {
   "display_name": "Python 3.6.9 64-bit",
   "language": "python",
   "name": "python36964bit795db20f401c46e7b1223182d297261e"
  },
  "language_info": {
   "codemirror_mode": {
    "name": "ipython",
    "version": 3
   },
   "file_extension": ".py",
   "mimetype": "text/x-python",
   "name": "python",
   "nbconvert_exporter": "python",
   "pygments_lexer": "ipython3",
   "version": "3.6.9"
  }
 },
 "nbformat": 4,
 "nbformat_minor": 4
}
